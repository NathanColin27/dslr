{
 "cells": [
  {
   "cell_type": "markdown",
   "id": "e985eabe",
   "metadata": {},
   "source": [
    "# V.1 DataAnalysis"
   ]
  },
  {
   "cell_type": "code",
   "execution_count": 1,
   "id": "8b596b71",
   "metadata": {},
   "outputs": [],
   "source": [
    "import pandas as pd\n",
    "import numpy as np\n",
    "import math\n",
    "import matplotlib.pyplot as plt"
   ]
  },
  {
   "cell_type": "code",
   "execution_count": 2,
   "id": "322102aa",
   "metadata": {},
   "outputs": [],
   "source": [
    "df = pd.read_csv(\"dataset_train.csv\")"
   ]
  },
  {
   "cell_type": "markdown",
   "id": "9e99c71a",
   "metadata": {},
   "source": [
    "### This should be the output of our first program\n",
    "It reads the datasets and gives us count, mean, std, min, max, percentiles for each feature"
   ]
  },
  {
   "cell_type": "code",
   "execution_count": 3,
   "id": "bc7dd0ae",
   "metadata": {},
   "outputs": [
    {
     "data": {
      "text/html": [
       "<div>\n",
       "<style scoped>\n",
       "    .dataframe tbody tr th:only-of-type {\n",
       "        vertical-align: middle;\n",
       "    }\n",
       "\n",
       "    .dataframe tbody tr th {\n",
       "        vertical-align: top;\n",
       "    }\n",
       "\n",
       "    .dataframe thead th {\n",
       "        text-align: right;\n",
       "    }\n",
       "</style>\n",
       "<table border=\"1\" class=\"dataframe\">\n",
       "  <thead>\n",
       "    <tr style=\"text-align: right;\">\n",
       "      <th></th>\n",
       "      <th>Index</th>\n",
       "      <th>Arithmancy</th>\n",
       "      <th>Astronomy</th>\n",
       "      <th>Herbology</th>\n",
       "      <th>Defense Against the Dark Arts</th>\n",
       "      <th>Divination</th>\n",
       "      <th>Muggle Studies</th>\n",
       "      <th>Ancient Runes</th>\n",
       "      <th>History of Magic</th>\n",
       "      <th>Transfiguration</th>\n",
       "      <th>Potions</th>\n",
       "      <th>Care of Magical Creatures</th>\n",
       "      <th>Charms</th>\n",
       "      <th>Flying</th>\n",
       "    </tr>\n",
       "  </thead>\n",
       "  <tbody>\n",
       "    <tr>\n",
       "      <th>count</th>\n",
       "      <td>1600.00000</td>\n",
       "      <td>1566.000000</td>\n",
       "      <td>1568.000000</td>\n",
       "      <td>1567.000000</td>\n",
       "      <td>1569.000000</td>\n",
       "      <td>1561.000000</td>\n",
       "      <td>1565.000000</td>\n",
       "      <td>1565.000000</td>\n",
       "      <td>1557.000000</td>\n",
       "      <td>1566.000000</td>\n",
       "      <td>1570.000000</td>\n",
       "      <td>1560.000000</td>\n",
       "      <td>1600.000000</td>\n",
       "      <td>1600.000000</td>\n",
       "    </tr>\n",
       "    <tr>\n",
       "      <th>mean</th>\n",
       "      <td>799.50000</td>\n",
       "      <td>49634.570243</td>\n",
       "      <td>39.797131</td>\n",
       "      <td>1.141020</td>\n",
       "      <td>-0.387863</td>\n",
       "      <td>3.153910</td>\n",
       "      <td>-224.589915</td>\n",
       "      <td>495.747970</td>\n",
       "      <td>2.963095</td>\n",
       "      <td>1030.096946</td>\n",
       "      <td>5.950373</td>\n",
       "      <td>-0.053427</td>\n",
       "      <td>-243.374409</td>\n",
       "      <td>21.958012</td>\n",
       "    </tr>\n",
       "    <tr>\n",
       "      <th>std</th>\n",
       "      <td>462.02453</td>\n",
       "      <td>16679.806036</td>\n",
       "      <td>520.298268</td>\n",
       "      <td>5.219682</td>\n",
       "      <td>5.212794</td>\n",
       "      <td>4.155301</td>\n",
       "      <td>486.344840</td>\n",
       "      <td>106.285165</td>\n",
       "      <td>4.425775</td>\n",
       "      <td>44.125116</td>\n",
       "      <td>3.147854</td>\n",
       "      <td>0.971457</td>\n",
       "      <td>8.783640</td>\n",
       "      <td>97.631602</td>\n",
       "    </tr>\n",
       "    <tr>\n",
       "      <th>min</th>\n",
       "      <td>0.00000</td>\n",
       "      <td>-24370.000000</td>\n",
       "      <td>-966.740546</td>\n",
       "      <td>-10.295663</td>\n",
       "      <td>-10.162119</td>\n",
       "      <td>-8.727000</td>\n",
       "      <td>-1086.496835</td>\n",
       "      <td>283.869609</td>\n",
       "      <td>-8.858993</td>\n",
       "      <td>906.627320</td>\n",
       "      <td>-4.697484</td>\n",
       "      <td>-3.313676</td>\n",
       "      <td>-261.048920</td>\n",
       "      <td>-181.470000</td>\n",
       "    </tr>\n",
       "    <tr>\n",
       "      <th>25%</th>\n",
       "      <td>399.75000</td>\n",
       "      <td>38511.500000</td>\n",
       "      <td>-489.551387</td>\n",
       "      <td>-4.308182</td>\n",
       "      <td>-5.259095</td>\n",
       "      <td>3.099000</td>\n",
       "      <td>-577.580096</td>\n",
       "      <td>397.511047</td>\n",
       "      <td>2.218653</td>\n",
       "      <td>1026.209993</td>\n",
       "      <td>3.646785</td>\n",
       "      <td>-0.671606</td>\n",
       "      <td>-250.652600</td>\n",
       "      <td>-41.870000</td>\n",
       "    </tr>\n",
       "    <tr>\n",
       "      <th>50%</th>\n",
       "      <td>799.50000</td>\n",
       "      <td>49013.500000</td>\n",
       "      <td>260.289446</td>\n",
       "      <td>3.469012</td>\n",
       "      <td>-2.589342</td>\n",
       "      <td>4.624000</td>\n",
       "      <td>-419.164294</td>\n",
       "      <td>463.918305</td>\n",
       "      <td>4.378176</td>\n",
       "      <td>1045.506996</td>\n",
       "      <td>5.874837</td>\n",
       "      <td>-0.044811</td>\n",
       "      <td>-244.867765</td>\n",
       "      <td>-2.515000</td>\n",
       "    </tr>\n",
       "    <tr>\n",
       "      <th>75%</th>\n",
       "      <td>1199.25000</td>\n",
       "      <td>60811.250000</td>\n",
       "      <td>524.771949</td>\n",
       "      <td>5.419183</td>\n",
       "      <td>4.904680</td>\n",
       "      <td>5.667000</td>\n",
       "      <td>254.994857</td>\n",
       "      <td>597.492230</td>\n",
       "      <td>5.825242</td>\n",
       "      <td>1058.436410</td>\n",
       "      <td>8.248173</td>\n",
       "      <td>0.589919</td>\n",
       "      <td>-232.552305</td>\n",
       "      <td>50.560000</td>\n",
       "    </tr>\n",
       "    <tr>\n",
       "      <th>max</th>\n",
       "      <td>1599.00000</td>\n",
       "      <td>104956.000000</td>\n",
       "      <td>1016.211940</td>\n",
       "      <td>11.612895</td>\n",
       "      <td>9.667405</td>\n",
       "      <td>10.032000</td>\n",
       "      <td>1092.388611</td>\n",
       "      <td>745.396220</td>\n",
       "      <td>11.889713</td>\n",
       "      <td>1098.958201</td>\n",
       "      <td>13.536762</td>\n",
       "      <td>3.056546</td>\n",
       "      <td>-225.428140</td>\n",
       "      <td>279.070000</td>\n",
       "    </tr>\n",
       "  </tbody>\n",
       "</table>\n",
       "</div>"
      ],
      "text/plain": [
       "            Index     Arithmancy    Astronomy    Herbology  \\\n",
       "count  1600.00000    1566.000000  1568.000000  1567.000000   \n",
       "mean    799.50000   49634.570243    39.797131     1.141020   \n",
       "std     462.02453   16679.806036   520.298268     5.219682   \n",
       "min       0.00000  -24370.000000  -966.740546   -10.295663   \n",
       "25%     399.75000   38511.500000  -489.551387    -4.308182   \n",
       "50%     799.50000   49013.500000   260.289446     3.469012   \n",
       "75%    1199.25000   60811.250000   524.771949     5.419183   \n",
       "max    1599.00000  104956.000000  1016.211940    11.612895   \n",
       "\n",
       "       Defense Against the Dark Arts   Divination  Muggle Studies  \\\n",
       "count                    1569.000000  1561.000000     1565.000000   \n",
       "mean                       -0.387863     3.153910     -224.589915   \n",
       "std                         5.212794     4.155301      486.344840   \n",
       "min                       -10.162119    -8.727000    -1086.496835   \n",
       "25%                        -5.259095     3.099000     -577.580096   \n",
       "50%                        -2.589342     4.624000     -419.164294   \n",
       "75%                         4.904680     5.667000      254.994857   \n",
       "max                         9.667405    10.032000     1092.388611   \n",
       "\n",
       "       Ancient Runes  History of Magic  Transfiguration      Potions  \\\n",
       "count    1565.000000       1557.000000      1566.000000  1570.000000   \n",
       "mean      495.747970          2.963095      1030.096946     5.950373   \n",
       "std       106.285165          4.425775        44.125116     3.147854   \n",
       "min       283.869609         -8.858993       906.627320    -4.697484   \n",
       "25%       397.511047          2.218653      1026.209993     3.646785   \n",
       "50%       463.918305          4.378176      1045.506996     5.874837   \n",
       "75%       597.492230          5.825242      1058.436410     8.248173   \n",
       "max       745.396220         11.889713      1098.958201    13.536762   \n",
       "\n",
       "       Care of Magical Creatures       Charms       Flying  \n",
       "count                1560.000000  1600.000000  1600.000000  \n",
       "mean                   -0.053427  -243.374409    21.958012  \n",
       "std                     0.971457     8.783640    97.631602  \n",
       "min                    -3.313676  -261.048920  -181.470000  \n",
       "25%                    -0.671606  -250.652600   -41.870000  \n",
       "50%                    -0.044811  -244.867765    -2.515000  \n",
       "75%                     0.589919  -232.552305    50.560000  \n",
       "max                     3.056546  -225.428140   279.070000  "
      ]
     },
     "execution_count": 3,
     "metadata": {},
     "output_type": "execute_result"
    }
   ],
   "source": [
    "df.describe()"
   ]
  },
  {
   "cell_type": "code",
   "execution_count": 4,
   "id": "38cf6f72",
   "metadata": {},
   "outputs": [],
   "source": [
    "def format_decimal(number, decimal):\n",
    "    return format(number, f'.{decimal}f')"
   ]
  },
  {
   "cell_type": "code",
   "execution_count": 5,
   "id": "3b245ab9",
   "metadata": {},
   "outputs": [
    {
     "name": "stdout",
     "output_type": "stream",
     "text": [
      "['Index', 'Arithmancy', 'Astronomy', 'Herbology', 'Defense Against the Dark Arts', 'Divination', 'Muggle Studies', 'Ancient Runes', 'History of Magic', 'Transfiguration', 'Potions', 'Care of Magical Creatures', 'Charms', 'Flying']\n"
     ]
    }
   ],
   "source": [
    "\"\"\"\n",
    "    We need a list of the features to describe. \n",
    "    All the non-numerical features can be left out. \n",
    "\"\"\"\n",
    "\n",
    "features = list(df.columns)\n",
    "\n",
    "features = [f for f in features if np.issubdtype(df[f].dtype, np.number)]\n",
    "\n",
    "print(features)"
   ]
  },
  {
   "cell_type": "code",
   "execution_count": 6,
   "id": "1bf77e9a",
   "metadata": {},
   "outputs": [
    {
     "name": "stdout",
     "output_type": "stream",
     "text": [
      "COUNT:\n",
      "\n",
      "Index : 1600.000000\n",
      "Arithmancy : 1566.000000\n",
      "Astronomy : 1568.000000\n",
      "Herbology : 1567.000000\n",
      "Defense Against the Dark Arts : 1569.000000\n",
      "Divination : 1561.000000\n",
      "Muggle Studies : 1565.000000\n",
      "Ancient Runes : 1565.000000\n",
      "History of Magic : 1557.000000\n",
      "Transfiguration : 1566.000000\n",
      "Potions : 1570.000000\n",
      "Care of Magical Creatures : 1560.000000\n",
      "Charms : 1600.000000\n",
      "Flying : 1600.000000\n"
     ]
    }
   ],
   "source": [
    "def count(feature : str) -> int:\n",
    "    \"\"\"\n",
    "       Count non-NA (NaN, NaT, None) cells for the requested feature.\n",
    "    \"\"\"\n",
    "    return len(df[feature].dropna())\n",
    "\n",
    "\n",
    "print(\"COUNT:\\n\")\n",
    "for feature in features:\n",
    "    print(feature, \":\", format_decimal(count(feature), 6))"
   ]
  },
  {
   "cell_type": "code",
   "execution_count": 7,
   "id": "62a47cba",
   "metadata": {},
   "outputs": [
    {
     "name": "stdout",
     "output_type": "stream",
     "text": [
      "MEAN :\n",
      "\n",
      "Index : 799.500000\n",
      "Arithmancy : 49634.570243\n",
      "Astronomy : 39.797131\n",
      "Herbology : 1.141020\n",
      "Defense Against the Dark Arts : -0.387863\n",
      "Divination : 3.153910\n",
      "Muggle Studies : -224.589915\n",
      "Ancient Runes : 495.747970\n",
      "History of Magic : 2.963095\n",
      "Transfiguration : 1030.096946\n",
      "Potions : 5.950373\n",
      "Care of Magical Creatures : -0.053427\n",
      "Charms : -243.374409\n",
      "Flying : 21.958012\n"
     ]
    }
   ],
   "source": [
    "def mean(feature : str) -> float:\n",
    "    \"\"\"\n",
    "        Returns the mean for the values of the requested feature.\n",
    "    \"\"\"\n",
    "    return (sum(df[feature].dropna()) / count(feature))\n",
    "\n",
    "print(\"MEAN :\\n\")\n",
    "for feature in features:\n",
    "    print(feature, \":\", format_decimal(mean(feature),6))"
   ]
  },
  {
   "cell_type": "code",
   "execution_count": 8,
   "id": "0265ab90",
   "metadata": {},
   "outputs": [
    {
     "name": "stdout",
     "output_type": "stream",
     "text": [
      "STD :\n",
      "\n",
      "Index : 462.024530\n",
      "Arithmancy : 16679.806036\n",
      "Astronomy : 520.298268\n",
      "Herbology : 5.219682\n",
      "Defense Against the Dark Arts : 5.212794\n",
      "Divination : 4.155301\n",
      "Muggle Studies : 486.344840\n",
      "Ancient Runes : 106.285165\n",
      "History of Magic : 4.425775\n",
      "Transfiguration : 44.125116\n",
      "Potions : 3.147854\n",
      "Care of Magical Creatures : 0.971457\n",
      "Charms : 8.783640\n",
      "Flying : 97.631602\n"
     ]
    }
   ],
   "source": [
    "def variance(feature : str) -> float:\n",
    "    mean_val = mean(feature)\n",
    "    numerator = 0\n",
    "    for i in df[feature].dropna():\n",
    "        numerator += (i - mean_val) ** 2\n",
    "    return (numerator/(count(feature) - 1))\n",
    "\n",
    "def std(feature : str) -> float:\n",
    "    \"\"\"\n",
    "        Returns sample standard deviation for the requested feature.\n",
    "    \"\"\"\n",
    "    return math.sqrt(variance(feature))\n",
    "\n",
    "print(\"STD :\\n\")\n",
    "for feature in features:\n",
    "    print(feature, \":\", format_decimal(std(feature),6))"
   ]
  },
  {
   "cell_type": "code",
   "execution_count": 9,
   "id": "dc8da66d",
   "metadata": {},
   "outputs": [
    {
     "name": "stdout",
     "output_type": "stream",
     "text": [
      "MIN :\n",
      "\n",
      "Index : 0.000000\n",
      "Arithmancy : -24370.000000\n",
      "Astronomy : -966.740546\n",
      "Herbology : -10.295663\n",
      "Defense Against the Dark Arts : -10.162119\n",
      "Divination : -8.727000\n",
      "Muggle Studies : -1086.496835\n",
      "Ancient Runes : 283.869609\n",
      "History of Magic : -8.858993\n",
      "Transfiguration : 906.627320\n",
      "Potions : -4.697484\n",
      "Care of Magical Creatures : -3.313676\n",
      "Charms : -261.048920\n",
      "Flying : -181.470000\n"
     ]
    }
   ],
   "source": [
    "def ft_min(feature : str) -> float:\n",
    "    min = np.nan\n",
    "    for i in df[feature].dropna():\n",
    "        min = min if i > min else i \n",
    "    return min\n",
    "\n",
    "print(\"MIN :\\n\")\n",
    "for feature in features:\n",
    "    print(feature, \":\", format_decimal(ft_min(feature),6))"
   ]
  },
  {
   "cell_type": "code",
   "execution_count": 10,
   "id": "37ae0711",
   "metadata": {},
   "outputs": [
    {
     "name": "stdout",
     "output_type": "stream",
     "text": [
      "MAX :\n",
      "\n",
      "Index : 1599.000000\n",
      "Arithmancy : 104956.000000\n",
      "Astronomy : 1016.211940\n",
      "Herbology : 11.612895\n",
      "Defense Against the Dark Arts : 9.667405\n",
      "Divination : 10.032000\n",
      "Muggle Studies : 1092.388611\n",
      "Ancient Runes : 745.396220\n",
      "History of Magic : 11.889713\n",
      "Transfiguration : 1098.958201\n",
      "Potions : 13.536762\n",
      "Care of Magical Creatures : 3.056546\n",
      "Charms : -225.428140\n",
      "Flying : 279.070000\n"
     ]
    }
   ],
   "source": [
    "def ft_max(feature : str) -> float:\n",
    "    max = np.nan\n",
    "    for i in df[feature].dropna():\n",
    "        max = max if i < max else i \n",
    "    return max\n",
    "\n",
    "print(\"MAX :\\n\")\n",
    "for feature in features:\n",
    "    print(feature, \":\", format_decimal(ft_max(feature),6))"
   ]
  },
  {
   "cell_type": "code",
   "execution_count": 11,
   "id": "d74a387e",
   "metadata": {},
   "outputs": [
    {
     "name": "stdout",
     "output_type": "stream",
     "text": [
      "Percentiles (25, 50, 75) :\n",
      "\n",
      "Index : 400.000000\n",
      "Index : 800.000000\n",
      "Index : 1200.000000\n",
      "Arithmancy : 38510.000000\n",
      "Arithmancy : 49018.000000\n",
      "Arithmancy : 60828.000000\n",
      "Astronomy : -489.493777\n",
      "Astronomy : 261.644731\n",
      "Astronomy : 525.909540\n",
      "Herbology : -4.312118\n",
      "Herbology : 3.469012\n",
      "Herbology : 5.421046\n",
      "Defense Against the Dark Arts : -5.259095\n",
      "Defense Against the Dark Arts : -2.589342\n",
      "Defense Against the Dark Arts : 4.904680\n",
      "Divination : 3.099000\n",
      "Divination : 4.624000\n",
      "Divination : 5.667000\n",
      "Muggle Studies : -577.580096\n",
      "Muggle Studies : -419.164294\n",
      "Muggle Studies : 254.994857\n",
      "Ancient Runes : 397.511047\n",
      "Ancient Runes : 463.918305\n",
      "Ancient Runes : 597.492230\n",
      "History of Magic : 2.218653\n",
      "History of Magic : 4.378176\n",
      "History of Magic : 5.825242\n",
      "Transfiguration : 1026.171713\n",
      "Transfiguration : 1045.533335\n",
      "Transfiguration : 1058.445388\n",
      "Potions : 3.644900\n",
      "Potions : 5.877582\n",
      "Potions : 8.248789\n",
      "Care of Magical Creatures : -0.670996\n",
      "Care of Magical Creatures : -0.043296\n",
      "Care of Magical Creatures : 0.594446\n",
      "Charms : -250.647270\n",
      "Charms : -244.867510\n",
      "Charms : -232.536750\n",
      "Flying : -41.840000\n",
      "Flying : -2.510000\n",
      "Flying : 50.890000\n"
     ]
    }
   ],
   "source": [
    "def percentile(feature : str, percent : int) -> float:\n",
    "    arr = np.array(df[feature].dropna())\n",
    "    arr.sort()\n",
    "    l = count(feature)/100\n",
    "    return arr[int(percent * l)]\n",
    "\n",
    "print(\"Percentiles (25, 50, 75) :\\n\")\n",
    "for feature in features:\n",
    "    print(feature, \":\", format_decimal(percentile(feature, 25),6))\n",
    "    print(feature, \":\", format_decimal(percentile(feature, 50),6))\n",
    "    print(feature, \":\", format_decimal(percentile(feature, 75),6))"
   ]
  },
  {
   "cell_type": "code",
   "execution_count": 63,
   "id": "ce1254cc",
   "metadata": {},
   "outputs": [
    {
     "data": {
      "text/html": [
       "<style>.container { width:100% !important; }</style>"
      ],
      "text/plain": [
       "<IPython.core.display.HTML object>"
      ]
     },
     "metadata": {},
     "output_type": "display_data"
    },
    {
     "name": "stdout",
     "output_type": "stream",
     "text": [
      "    Index        Arithmancy       Astronomy       Herbology        Defense       Divination        Muggle       Ancient Runes    History of     Transfigurati      Potions         Care of         Charms          Flying    \n",
      "                                                                 Against the                       Studies                          Magic            on                            Magical                                   \n",
      "                                                                  Dark Arts                                                                                                       Creatures                                  \n",
      "=============================================================================================================================================================================================================================\n",
      "  1600.000000     1566.000000     1568.000000     1567.000000     1569.000000     1561.000000     1565.000000     1565.000000     1557.000000     1566.000000     1570.000000     1560.000000     1600.000000     1600.000000\n",
      "   799.500000    49634.570243       39.797131        1.141020       -0.387863        3.153910     -224.589915      495.747970        2.963095     1030.096946        5.950373       -0.053427     -243.374409       21.958012\n",
      "   462.024530    16679.806036      520.298268        5.219682        5.212794        4.155301      486.344840      106.285165        4.425775       44.125116        3.147854        0.971457        8.783640       97.631602\n",
      "     0.000000   -24370.000000     -966.740546      -10.295663      -10.162119       -8.727000    -1086.496835      283.869609       -8.858993      906.627320       -4.697484       -3.313676     -261.048920     -181.470000\n",
      "   400.000000    38510.000000     -489.493777       -4.312118       -5.259095        3.099000     -577.580096      397.511047        2.218653     1026.171713        3.644900       -0.670996     -250.647270      -41.840000\n",
      "   400.000000    38510.000000     -489.493777       -4.312118       -5.259095        3.099000     -577.580096      397.511047        2.218653     1026.171713        3.644900       -0.670996     -250.647270      -41.840000\n",
      "   400.000000    38510.000000     -489.493777       -4.312118       -5.259095        3.099000     -577.580096      397.511047        2.218653     1026.171713        3.644900       -0.670996     -250.647270      -41.840000\n",
      "  1599.000000   104956.000000     1016.211940       11.612895        9.667405       10.032000     1092.388611      745.396220       11.889713     1098.958201       13.536762        3.056546     -225.428140      279.070000\n"
     ]
    }
   ],
   "source": [
    "from texttable import Texttable\n",
    "from functools import partial\n",
    "from IPython.display import display, HTML\n",
    "display(HTML(\"<style>.container { width:100% !important; }</style>\"))\n",
    "\n",
    "func_list = [count, mean, std, ft_min, partial(percentile, percent=25),\\\n",
    "             partial(percentile, percent=25), partial(percentile, percent=25),  ft_max]\n",
    "columns = [[\"count\", \"mean\", \"std\", \"min\", \"25%\", \"50%\", \"75%\", \"max\"]]\n",
    "rows = []\n",
    "rows.append(features)\n",
    "\n",
    "for func in func_list:\n",
    "    rows.append(list(map(func, features)))\n",
    "\n",
    "# test = [list(x) for x  in zip(*rows)] #tranpose the 2d array\n",
    "\n",
    "table = Texttable()\n",
    "table.set_deco(Texttable.HEADER)\n",
    "col_type = [\"f\"] * 14\n",
    "col_width = [13] * 14\n",
    "col_align = [\"r\"] * 14\n",
    "table.set_cols_width(col_width)\n",
    "table.set_cols_dtype(col_type)\n",
    "table.set_cols_align(col_align)\n",
    "table.set_precision(6)\n",
    "table.add_rows(rows)\n",
    "table.set_max_width(500)\n",
    "print(table.draw())\n",
    "# print(tabulate(rows, headers=features, maxcolwidths=[None, 5]))"
   ]
  },
  {
   "cell_type": "code",
   "execution_count": 96,
   "id": "1f36f607",
   "metadata": {},
   "outputs": [
    {
     "data": {
      "application/vnd.plotly.v1+json": {
       "config": {
        "plotlyServerURL": "https://plot.ly"
       },
       "data": [
        {
         "cells": {
          "align": [
           "left",
           "center"
          ],
          "fill": {
           "color": [
            [
             "white",
             "lightgrey",
             "white",
             "lightgrey",
             "white",
             "lightgrey",
             "white",
             "lightgrey"
            ]
           ]
          },
          "font": {
           "color": "darkslategray",
           "size": 11
          },
          "line": {
           "color": "darkslategray"
          },
          "values": [
           [
            "count",
            "mean",
            "std",
            "min",
            "25%",
            "50%",
            "75%",
            "max"
           ],
           [
            "1600.000000",
            "799.500000",
            "462.024530",
            "0.000000",
            "400.000000",
            "800.000000",
            "1200.000000",
            "1599.000000"
           ],
           [
            "1566.000000",
            "49634.570243",
            "16679.806036",
            "-24370.000000",
            "38510.000000",
            "49018.000000",
            "60828.000000",
            "104956.000000"
           ],
           [
            "1568.000000",
            "39.797131",
            "520.298268",
            "-966.740546",
            "-489.493777",
            "261.644731",
            "525.909540",
            "1016.211940"
           ],
           [
            "1567.000000",
            "1.141020",
            "5.219682",
            "-10.295663",
            "-4.312118",
            "3.469012",
            "5.421046",
            "11.612895"
           ],
           [
            "1569.000000",
            "-0.387863",
            "5.212794",
            "-10.162119",
            "-5.259095",
            "-2.589342",
            "4.904680",
            "9.667405"
           ],
           [
            "1561.000000",
            "3.153910",
            "4.155301",
            "-8.727000",
            "3.099000",
            "4.624000",
            "5.667000",
            "10.032000"
           ],
           [
            "1565.000000",
            "-224.589915",
            "486.344840",
            "-1086.496835",
            "-577.580096",
            "-419.164294",
            "254.994857",
            "1092.388611"
           ],
           [
            "1565.000000",
            "495.747970",
            "106.285165",
            "283.869609",
            "397.511047",
            "463.918305",
            "597.492230",
            "745.396220"
           ],
           [
            "1557.000000",
            "2.963095",
            "4.425775",
            "-8.858993",
            "2.218653",
            "4.378176",
            "5.825242",
            "11.889713"
           ],
           [
            "1566.000000",
            "1030.096946",
            "44.125116",
            "906.627320",
            "1026.171713",
            "1045.533335",
            "1058.445388",
            "1098.958201"
           ],
           [
            "1570.000000",
            "5.950373",
            "3.147854",
            "-4.697484",
            "3.644900",
            "5.877582",
            "8.248789",
            "13.536762"
           ],
           [
            "1560.000000",
            "-0.053427",
            "0.971457",
            "-3.313676",
            "-0.670996",
            "-0.043296",
            "0.594446",
            "3.056546"
           ],
           [
            "1600.000000",
            "-243.374409",
            "8.783640",
            "-261.048920",
            "-250.647270",
            "-244.867510",
            "-232.536750",
            "-225.428140"
           ],
           [
            "1600.000000",
            "21.958012",
            "97.631602",
            "-181.470000",
            "-41.840000",
            "-2.510000",
            "50.890000",
            "279.070000"
           ]
          ]
         },
         "header": {
          "align": [
           "left",
           "center"
          ],
          "fill": {
           "color": "grey"
          },
          "font": {
           "color": "Black",
           "size": 12
          },
          "line": {
           "color": "darkslategray"
          },
          "values": [
           "",
           "Index",
           "Arithmancy",
           "Astronomy",
           "Herbology",
           "Defense Against the Dark Arts",
           "Divination",
           "Muggle Studies",
           "Ancient Runes",
           "History of Magic",
           "Transfiguration",
           "Potions",
           "Care of Magical Creatures",
           "Charms",
           "Flying"
          ]
         },
         "type": "table"
        }
       ],
       "layout": {
        "template": {
         "data": {
          "bar": [
           {
            "error_x": {
             "color": "#2a3f5f"
            },
            "error_y": {
             "color": "#2a3f5f"
            },
            "marker": {
             "line": {
              "color": "#E5ECF6",
              "width": 0.5
             },
             "pattern": {
              "fillmode": "overlay",
              "size": 10,
              "solidity": 0.2
             }
            },
            "type": "bar"
           }
          ],
          "barpolar": [
           {
            "marker": {
             "line": {
              "color": "#E5ECF6",
              "width": 0.5
             },
             "pattern": {
              "fillmode": "overlay",
              "size": 10,
              "solidity": 0.2
             }
            },
            "type": "barpolar"
           }
          ],
          "carpet": [
           {
            "aaxis": {
             "endlinecolor": "#2a3f5f",
             "gridcolor": "white",
             "linecolor": "white",
             "minorgridcolor": "white",
             "startlinecolor": "#2a3f5f"
            },
            "baxis": {
             "endlinecolor": "#2a3f5f",
             "gridcolor": "white",
             "linecolor": "white",
             "minorgridcolor": "white",
             "startlinecolor": "#2a3f5f"
            },
            "type": "carpet"
           }
          ],
          "choropleth": [
           {
            "colorbar": {
             "outlinewidth": 0,
             "ticks": ""
            },
            "type": "choropleth"
           }
          ],
          "contour": [
           {
            "colorbar": {
             "outlinewidth": 0,
             "ticks": ""
            },
            "colorscale": [
             [
              0,
              "#0d0887"
             ],
             [
              0.1111111111111111,
              "#46039f"
             ],
             [
              0.2222222222222222,
              "#7201a8"
             ],
             [
              0.3333333333333333,
              "#9c179e"
             ],
             [
              0.4444444444444444,
              "#bd3786"
             ],
             [
              0.5555555555555556,
              "#d8576b"
             ],
             [
              0.6666666666666666,
              "#ed7953"
             ],
             [
              0.7777777777777778,
              "#fb9f3a"
             ],
             [
              0.8888888888888888,
              "#fdca26"
             ],
             [
              1,
              "#f0f921"
             ]
            ],
            "type": "contour"
           }
          ],
          "contourcarpet": [
           {
            "colorbar": {
             "outlinewidth": 0,
             "ticks": ""
            },
            "type": "contourcarpet"
           }
          ],
          "heatmap": [
           {
            "colorbar": {
             "outlinewidth": 0,
             "ticks": ""
            },
            "colorscale": [
             [
              0,
              "#0d0887"
             ],
             [
              0.1111111111111111,
              "#46039f"
             ],
             [
              0.2222222222222222,
              "#7201a8"
             ],
             [
              0.3333333333333333,
              "#9c179e"
             ],
             [
              0.4444444444444444,
              "#bd3786"
             ],
             [
              0.5555555555555556,
              "#d8576b"
             ],
             [
              0.6666666666666666,
              "#ed7953"
             ],
             [
              0.7777777777777778,
              "#fb9f3a"
             ],
             [
              0.8888888888888888,
              "#fdca26"
             ],
             [
              1,
              "#f0f921"
             ]
            ],
            "type": "heatmap"
           }
          ],
          "heatmapgl": [
           {
            "colorbar": {
             "outlinewidth": 0,
             "ticks": ""
            },
            "colorscale": [
             [
              0,
              "#0d0887"
             ],
             [
              0.1111111111111111,
              "#46039f"
             ],
             [
              0.2222222222222222,
              "#7201a8"
             ],
             [
              0.3333333333333333,
              "#9c179e"
             ],
             [
              0.4444444444444444,
              "#bd3786"
             ],
             [
              0.5555555555555556,
              "#d8576b"
             ],
             [
              0.6666666666666666,
              "#ed7953"
             ],
             [
              0.7777777777777778,
              "#fb9f3a"
             ],
             [
              0.8888888888888888,
              "#fdca26"
             ],
             [
              1,
              "#f0f921"
             ]
            ],
            "type": "heatmapgl"
           }
          ],
          "histogram": [
           {
            "marker": {
             "pattern": {
              "fillmode": "overlay",
              "size": 10,
              "solidity": 0.2
             }
            },
            "type": "histogram"
           }
          ],
          "histogram2d": [
           {
            "colorbar": {
             "outlinewidth": 0,
             "ticks": ""
            },
            "colorscale": [
             [
              0,
              "#0d0887"
             ],
             [
              0.1111111111111111,
              "#46039f"
             ],
             [
              0.2222222222222222,
              "#7201a8"
             ],
             [
              0.3333333333333333,
              "#9c179e"
             ],
             [
              0.4444444444444444,
              "#bd3786"
             ],
             [
              0.5555555555555556,
              "#d8576b"
             ],
             [
              0.6666666666666666,
              "#ed7953"
             ],
             [
              0.7777777777777778,
              "#fb9f3a"
             ],
             [
              0.8888888888888888,
              "#fdca26"
             ],
             [
              1,
              "#f0f921"
             ]
            ],
            "type": "histogram2d"
           }
          ],
          "histogram2dcontour": [
           {
            "colorbar": {
             "outlinewidth": 0,
             "ticks": ""
            },
            "colorscale": [
             [
              0,
              "#0d0887"
             ],
             [
              0.1111111111111111,
              "#46039f"
             ],
             [
              0.2222222222222222,
              "#7201a8"
             ],
             [
              0.3333333333333333,
              "#9c179e"
             ],
             [
              0.4444444444444444,
              "#bd3786"
             ],
             [
              0.5555555555555556,
              "#d8576b"
             ],
             [
              0.6666666666666666,
              "#ed7953"
             ],
             [
              0.7777777777777778,
              "#fb9f3a"
             ],
             [
              0.8888888888888888,
              "#fdca26"
             ],
             [
              1,
              "#f0f921"
             ]
            ],
            "type": "histogram2dcontour"
           }
          ],
          "mesh3d": [
           {
            "colorbar": {
             "outlinewidth": 0,
             "ticks": ""
            },
            "type": "mesh3d"
           }
          ],
          "parcoords": [
           {
            "line": {
             "colorbar": {
              "outlinewidth": 0,
              "ticks": ""
             }
            },
            "type": "parcoords"
           }
          ],
          "pie": [
           {
            "automargin": true,
            "type": "pie"
           }
          ],
          "scatter": [
           {
            "fillpattern": {
             "fillmode": "overlay",
             "size": 10,
             "solidity": 0.2
            },
            "type": "scatter"
           }
          ],
          "scatter3d": [
           {
            "line": {
             "colorbar": {
              "outlinewidth": 0,
              "ticks": ""
             }
            },
            "marker": {
             "colorbar": {
              "outlinewidth": 0,
              "ticks": ""
             }
            },
            "type": "scatter3d"
           }
          ],
          "scattercarpet": [
           {
            "marker": {
             "colorbar": {
              "outlinewidth": 0,
              "ticks": ""
             }
            },
            "type": "scattercarpet"
           }
          ],
          "scattergeo": [
           {
            "marker": {
             "colorbar": {
              "outlinewidth": 0,
              "ticks": ""
             }
            },
            "type": "scattergeo"
           }
          ],
          "scattergl": [
           {
            "marker": {
             "colorbar": {
              "outlinewidth": 0,
              "ticks": ""
             }
            },
            "type": "scattergl"
           }
          ],
          "scattermapbox": [
           {
            "marker": {
             "colorbar": {
              "outlinewidth": 0,
              "ticks": ""
             }
            },
            "type": "scattermapbox"
           }
          ],
          "scatterpolar": [
           {
            "marker": {
             "colorbar": {
              "outlinewidth": 0,
              "ticks": ""
             }
            },
            "type": "scatterpolar"
           }
          ],
          "scatterpolargl": [
           {
            "marker": {
             "colorbar": {
              "outlinewidth": 0,
              "ticks": ""
             }
            },
            "type": "scatterpolargl"
           }
          ],
          "scatterternary": [
           {
            "marker": {
             "colorbar": {
              "outlinewidth": 0,
              "ticks": ""
             }
            },
            "type": "scatterternary"
           }
          ],
          "surface": [
           {
            "colorbar": {
             "outlinewidth": 0,
             "ticks": ""
            },
            "colorscale": [
             [
              0,
              "#0d0887"
             ],
             [
              0.1111111111111111,
              "#46039f"
             ],
             [
              0.2222222222222222,
              "#7201a8"
             ],
             [
              0.3333333333333333,
              "#9c179e"
             ],
             [
              0.4444444444444444,
              "#bd3786"
             ],
             [
              0.5555555555555556,
              "#d8576b"
             ],
             [
              0.6666666666666666,
              "#ed7953"
             ],
             [
              0.7777777777777778,
              "#fb9f3a"
             ],
             [
              0.8888888888888888,
              "#fdca26"
             ],
             [
              1,
              "#f0f921"
             ]
            ],
            "type": "surface"
           }
          ],
          "table": [
           {
            "cells": {
             "fill": {
              "color": "#EBF0F8"
             },
             "line": {
              "color": "white"
             }
            },
            "header": {
             "fill": {
              "color": "#C8D4E3"
             },
             "line": {
              "color": "white"
             }
            },
            "type": "table"
           }
          ]
         },
         "layout": {
          "annotationdefaults": {
           "arrowcolor": "#2a3f5f",
           "arrowhead": 0,
           "arrowwidth": 1
          },
          "autotypenumbers": "strict",
          "coloraxis": {
           "colorbar": {
            "outlinewidth": 0,
            "ticks": ""
           }
          },
          "colorscale": {
           "diverging": [
            [
             0,
             "#8e0152"
            ],
            [
             0.1,
             "#c51b7d"
            ],
            [
             0.2,
             "#de77ae"
            ],
            [
             0.3,
             "#f1b6da"
            ],
            [
             0.4,
             "#fde0ef"
            ],
            [
             0.5,
             "#f7f7f7"
            ],
            [
             0.6,
             "#e6f5d0"
            ],
            [
             0.7,
             "#b8e186"
            ],
            [
             0.8,
             "#7fbc41"
            ],
            [
             0.9,
             "#4d9221"
            ],
            [
             1,
             "#276419"
            ]
           ],
           "sequential": [
            [
             0,
             "#0d0887"
            ],
            [
             0.1111111111111111,
             "#46039f"
            ],
            [
             0.2222222222222222,
             "#7201a8"
            ],
            [
             0.3333333333333333,
             "#9c179e"
            ],
            [
             0.4444444444444444,
             "#bd3786"
            ],
            [
             0.5555555555555556,
             "#d8576b"
            ],
            [
             0.6666666666666666,
             "#ed7953"
            ],
            [
             0.7777777777777778,
             "#fb9f3a"
            ],
            [
             0.8888888888888888,
             "#fdca26"
            ],
            [
             1,
             "#f0f921"
            ]
           ],
           "sequentialminus": [
            [
             0,
             "#0d0887"
            ],
            [
             0.1111111111111111,
             "#46039f"
            ],
            [
             0.2222222222222222,
             "#7201a8"
            ],
            [
             0.3333333333333333,
             "#9c179e"
            ],
            [
             0.4444444444444444,
             "#bd3786"
            ],
            [
             0.5555555555555556,
             "#d8576b"
            ],
            [
             0.6666666666666666,
             "#ed7953"
            ],
            [
             0.7777777777777778,
             "#fb9f3a"
            ],
            [
             0.8888888888888888,
             "#fdca26"
            ],
            [
             1,
             "#f0f921"
            ]
           ]
          },
          "colorway": [
           "#636efa",
           "#EF553B",
           "#00cc96",
           "#ab63fa",
           "#FFA15A",
           "#19d3f3",
           "#FF6692",
           "#B6E880",
           "#FF97FF",
           "#FECB52"
          ],
          "font": {
           "color": "#2a3f5f"
          },
          "geo": {
           "bgcolor": "white",
           "lakecolor": "white",
           "landcolor": "#E5ECF6",
           "showlakes": true,
           "showland": true,
           "subunitcolor": "white"
          },
          "hoverlabel": {
           "align": "left"
          },
          "hovermode": "closest",
          "mapbox": {
           "style": "light"
          },
          "paper_bgcolor": "white",
          "plot_bgcolor": "#E5ECF6",
          "polar": {
           "angularaxis": {
            "gridcolor": "white",
            "linecolor": "white",
            "ticks": ""
           },
           "bgcolor": "#E5ECF6",
           "radialaxis": {
            "gridcolor": "white",
            "linecolor": "white",
            "ticks": ""
           }
          },
          "scene": {
           "xaxis": {
            "backgroundcolor": "#E5ECF6",
            "gridcolor": "white",
            "gridwidth": 2,
            "linecolor": "white",
            "showbackground": true,
            "ticks": "",
            "zerolinecolor": "white"
           },
           "yaxis": {
            "backgroundcolor": "#E5ECF6",
            "gridcolor": "white",
            "gridwidth": 2,
            "linecolor": "white",
            "showbackground": true,
            "ticks": "",
            "zerolinecolor": "white"
           },
           "zaxis": {
            "backgroundcolor": "#E5ECF6",
            "gridcolor": "white",
            "gridwidth": 2,
            "linecolor": "white",
            "showbackground": true,
            "ticks": "",
            "zerolinecolor": "white"
           }
          },
          "shapedefaults": {
           "line": {
            "color": "#2a3f5f"
           }
          },
          "ternary": {
           "aaxis": {
            "gridcolor": "white",
            "linecolor": "white",
            "ticks": ""
           },
           "baxis": {
            "gridcolor": "white",
            "linecolor": "white",
            "ticks": ""
           },
           "bgcolor": "#E5ECF6",
           "caxis": {
            "gridcolor": "white",
            "linecolor": "white",
            "ticks": ""
           }
          },
          "title": {
           "x": 0.05
          },
          "xaxis": {
           "automargin": true,
           "gridcolor": "white",
           "linecolor": "white",
           "ticks": "",
           "title": {
            "standoff": 15
           },
           "zerolinecolor": "white",
           "zerolinewidth": 2
          },
          "yaxis": {
           "automargin": true,
           "gridcolor": "white",
           "linecolor": "white",
           "ticks": "",
           "title": {
            "standoff": 15
           },
           "zerolinecolor": "white",
           "zerolinewidth": 2
          }
         }
        }
       }
      },
      "text/html": [
       "<div>                            <div id=\"c7eb0de5-53e3-42ea-916d-084c25042718\" class=\"plotly-graph-div\" style=\"height:525px; width:100%;\"></div>            <script type=\"text/javascript\">                require([\"plotly\"], function(Plotly) {                    window.PLOTLYENV=window.PLOTLYENV || {};                                    if (document.getElementById(\"c7eb0de5-53e3-42ea-916d-084c25042718\")) {                    Plotly.newPlot(                        \"c7eb0de5-53e3-42ea-916d-084c25042718\",                        [{\"cells\":{\"align\":[\"left\",\"center\"],\"fill\":{\"color\":[[\"white\",\"lightgrey\",\"white\",\"lightgrey\",\"white\",\"lightgrey\",\"white\",\"lightgrey\"]]},\"font\":{\"color\":\"darkslategray\",\"size\":11},\"line\":{\"color\":\"darkslategray\"},\"values\":[[\"count\",\"mean\",\"std\",\"min\",\"25%\",\"50%\",\"75%\",\"max\"],[\"1600.000000\",\"799.500000\",\"462.024530\",\"0.000000\",\"400.000000\",\"800.000000\",\"1200.000000\",\"1599.000000\"],[\"1566.000000\",\"49634.570243\",\"16679.806036\",\"-24370.000000\",\"38510.000000\",\"49018.000000\",\"60828.000000\",\"104956.000000\"],[\"1568.000000\",\"39.797131\",\"520.298268\",\"-966.740546\",\"-489.493777\",\"261.644731\",\"525.909540\",\"1016.211940\"],[\"1567.000000\",\"1.141020\",\"5.219682\",\"-10.295663\",\"-4.312118\",\"3.469012\",\"5.421046\",\"11.612895\"],[\"1569.000000\",\"-0.387863\",\"5.212794\",\"-10.162119\",\"-5.259095\",\"-2.589342\",\"4.904680\",\"9.667405\"],[\"1561.000000\",\"3.153910\",\"4.155301\",\"-8.727000\",\"3.099000\",\"4.624000\",\"5.667000\",\"10.032000\"],[\"1565.000000\",\"-224.589915\",\"486.344840\",\"-1086.496835\",\"-577.580096\",\"-419.164294\",\"254.994857\",\"1092.388611\"],[\"1565.000000\",\"495.747970\",\"106.285165\",\"283.869609\",\"397.511047\",\"463.918305\",\"597.492230\",\"745.396220\"],[\"1557.000000\",\"2.963095\",\"4.425775\",\"-8.858993\",\"2.218653\",\"4.378176\",\"5.825242\",\"11.889713\"],[\"1566.000000\",\"1030.096946\",\"44.125116\",\"906.627320\",\"1026.171713\",\"1045.533335\",\"1058.445388\",\"1098.958201\"],[\"1570.000000\",\"5.950373\",\"3.147854\",\"-4.697484\",\"3.644900\",\"5.877582\",\"8.248789\",\"13.536762\"],[\"1560.000000\",\"-0.053427\",\"0.971457\",\"-3.313676\",\"-0.670996\",\"-0.043296\",\"0.594446\",\"3.056546\"],[\"1600.000000\",\"-243.374409\",\"8.783640\",\"-261.048920\",\"-250.647270\",\"-244.867510\",\"-232.536750\",\"-225.428140\"],[\"1600.000000\",\"21.958012\",\"97.631602\",\"-181.470000\",\"-41.840000\",\"-2.510000\",\"50.890000\",\"279.070000\"]]},\"header\":{\"align\":[\"left\",\"center\"],\"fill\":{\"color\":\"grey\"},\"font\":{\"color\":\"Black\",\"size\":12},\"line\":{\"color\":\"darkslategray\"},\"values\":[\"\",\"Index\",\"Arithmancy\",\"Astronomy\",\"Herbology\",\"Defense Against the Dark Arts\",\"Divination\",\"Muggle Studies\",\"Ancient Runes\",\"History of Magic\",\"Transfiguration\",\"Potions\",\"Care of Magical Creatures\",\"Charms\",\"Flying\"]},\"type\":\"table\"}],                        {\"template\":{\"data\":{\"histogram2dcontour\":[{\"type\":\"histogram2dcontour\",\"colorbar\":{\"outlinewidth\":0,\"ticks\":\"\"},\"colorscale\":[[0.0,\"#0d0887\"],[0.1111111111111111,\"#46039f\"],[0.2222222222222222,\"#7201a8\"],[0.3333333333333333,\"#9c179e\"],[0.4444444444444444,\"#bd3786\"],[0.5555555555555556,\"#d8576b\"],[0.6666666666666666,\"#ed7953\"],[0.7777777777777778,\"#fb9f3a\"],[0.8888888888888888,\"#fdca26\"],[1.0,\"#f0f921\"]]}],\"choropleth\":[{\"type\":\"choropleth\",\"colorbar\":{\"outlinewidth\":0,\"ticks\":\"\"}}],\"histogram2d\":[{\"type\":\"histogram2d\",\"colorbar\":{\"outlinewidth\":0,\"ticks\":\"\"},\"colorscale\":[[0.0,\"#0d0887\"],[0.1111111111111111,\"#46039f\"],[0.2222222222222222,\"#7201a8\"],[0.3333333333333333,\"#9c179e\"],[0.4444444444444444,\"#bd3786\"],[0.5555555555555556,\"#d8576b\"],[0.6666666666666666,\"#ed7953\"],[0.7777777777777778,\"#fb9f3a\"],[0.8888888888888888,\"#fdca26\"],[1.0,\"#f0f921\"]]}],\"heatmap\":[{\"type\":\"heatmap\",\"colorbar\":{\"outlinewidth\":0,\"ticks\":\"\"},\"colorscale\":[[0.0,\"#0d0887\"],[0.1111111111111111,\"#46039f\"],[0.2222222222222222,\"#7201a8\"],[0.3333333333333333,\"#9c179e\"],[0.4444444444444444,\"#bd3786\"],[0.5555555555555556,\"#d8576b\"],[0.6666666666666666,\"#ed7953\"],[0.7777777777777778,\"#fb9f3a\"],[0.8888888888888888,\"#fdca26\"],[1.0,\"#f0f921\"]]}],\"heatmapgl\":[{\"type\":\"heatmapgl\",\"colorbar\":{\"outlinewidth\":0,\"ticks\":\"\"},\"colorscale\":[[0.0,\"#0d0887\"],[0.1111111111111111,\"#46039f\"],[0.2222222222222222,\"#7201a8\"],[0.3333333333333333,\"#9c179e\"],[0.4444444444444444,\"#bd3786\"],[0.5555555555555556,\"#d8576b\"],[0.6666666666666666,\"#ed7953\"],[0.7777777777777778,\"#fb9f3a\"],[0.8888888888888888,\"#fdca26\"],[1.0,\"#f0f921\"]]}],\"contourcarpet\":[{\"type\":\"contourcarpet\",\"colorbar\":{\"outlinewidth\":0,\"ticks\":\"\"}}],\"contour\":[{\"type\":\"contour\",\"colorbar\":{\"outlinewidth\":0,\"ticks\":\"\"},\"colorscale\":[[0.0,\"#0d0887\"],[0.1111111111111111,\"#46039f\"],[0.2222222222222222,\"#7201a8\"],[0.3333333333333333,\"#9c179e\"],[0.4444444444444444,\"#bd3786\"],[0.5555555555555556,\"#d8576b\"],[0.6666666666666666,\"#ed7953\"],[0.7777777777777778,\"#fb9f3a\"],[0.8888888888888888,\"#fdca26\"],[1.0,\"#f0f921\"]]}],\"surface\":[{\"type\":\"surface\",\"colorbar\":{\"outlinewidth\":0,\"ticks\":\"\"},\"colorscale\":[[0.0,\"#0d0887\"],[0.1111111111111111,\"#46039f\"],[0.2222222222222222,\"#7201a8\"],[0.3333333333333333,\"#9c179e\"],[0.4444444444444444,\"#bd3786\"],[0.5555555555555556,\"#d8576b\"],[0.6666666666666666,\"#ed7953\"],[0.7777777777777778,\"#fb9f3a\"],[0.8888888888888888,\"#fdca26\"],[1.0,\"#f0f921\"]]}],\"mesh3d\":[{\"type\":\"mesh3d\",\"colorbar\":{\"outlinewidth\":0,\"ticks\":\"\"}}],\"scatter\":[{\"fillpattern\":{\"fillmode\":\"overlay\",\"size\":10,\"solidity\":0.2},\"type\":\"scatter\"}],\"parcoords\":[{\"type\":\"parcoords\",\"line\":{\"colorbar\":{\"outlinewidth\":0,\"ticks\":\"\"}}}],\"scatterpolargl\":[{\"type\":\"scatterpolargl\",\"marker\":{\"colorbar\":{\"outlinewidth\":0,\"ticks\":\"\"}}}],\"bar\":[{\"error_x\":{\"color\":\"#2a3f5f\"},\"error_y\":{\"color\":\"#2a3f5f\"},\"marker\":{\"line\":{\"color\":\"#E5ECF6\",\"width\":0.5},\"pattern\":{\"fillmode\":\"overlay\",\"size\":10,\"solidity\":0.2}},\"type\":\"bar\"}],\"scattergeo\":[{\"type\":\"scattergeo\",\"marker\":{\"colorbar\":{\"outlinewidth\":0,\"ticks\":\"\"}}}],\"scatterpolar\":[{\"type\":\"scatterpolar\",\"marker\":{\"colorbar\":{\"outlinewidth\":0,\"ticks\":\"\"}}}],\"histogram\":[{\"marker\":{\"pattern\":{\"fillmode\":\"overlay\",\"size\":10,\"solidity\":0.2}},\"type\":\"histogram\"}],\"scattergl\":[{\"type\":\"scattergl\",\"marker\":{\"colorbar\":{\"outlinewidth\":0,\"ticks\":\"\"}}}],\"scatter3d\":[{\"type\":\"scatter3d\",\"line\":{\"colorbar\":{\"outlinewidth\":0,\"ticks\":\"\"}},\"marker\":{\"colorbar\":{\"outlinewidth\":0,\"ticks\":\"\"}}}],\"scattermapbox\":[{\"type\":\"scattermapbox\",\"marker\":{\"colorbar\":{\"outlinewidth\":0,\"ticks\":\"\"}}}],\"scatterternary\":[{\"type\":\"scatterternary\",\"marker\":{\"colorbar\":{\"outlinewidth\":0,\"ticks\":\"\"}}}],\"scattercarpet\":[{\"type\":\"scattercarpet\",\"marker\":{\"colorbar\":{\"outlinewidth\":0,\"ticks\":\"\"}}}],\"carpet\":[{\"aaxis\":{\"endlinecolor\":\"#2a3f5f\",\"gridcolor\":\"white\",\"linecolor\":\"white\",\"minorgridcolor\":\"white\",\"startlinecolor\":\"#2a3f5f\"},\"baxis\":{\"endlinecolor\":\"#2a3f5f\",\"gridcolor\":\"white\",\"linecolor\":\"white\",\"minorgridcolor\":\"white\",\"startlinecolor\":\"#2a3f5f\"},\"type\":\"carpet\"}],\"table\":[{\"cells\":{\"fill\":{\"color\":\"#EBF0F8\"},\"line\":{\"color\":\"white\"}},\"header\":{\"fill\":{\"color\":\"#C8D4E3\"},\"line\":{\"color\":\"white\"}},\"type\":\"table\"}],\"barpolar\":[{\"marker\":{\"line\":{\"color\":\"#E5ECF6\",\"width\":0.5},\"pattern\":{\"fillmode\":\"overlay\",\"size\":10,\"solidity\":0.2}},\"type\":\"barpolar\"}],\"pie\":[{\"automargin\":true,\"type\":\"pie\"}]},\"layout\":{\"autotypenumbers\":\"strict\",\"colorway\":[\"#636efa\",\"#EF553B\",\"#00cc96\",\"#ab63fa\",\"#FFA15A\",\"#19d3f3\",\"#FF6692\",\"#B6E880\",\"#FF97FF\",\"#FECB52\"],\"font\":{\"color\":\"#2a3f5f\"},\"hovermode\":\"closest\",\"hoverlabel\":{\"align\":\"left\"},\"paper_bgcolor\":\"white\",\"plot_bgcolor\":\"#E5ECF6\",\"polar\":{\"bgcolor\":\"#E5ECF6\",\"angularaxis\":{\"gridcolor\":\"white\",\"linecolor\":\"white\",\"ticks\":\"\"},\"radialaxis\":{\"gridcolor\":\"white\",\"linecolor\":\"white\",\"ticks\":\"\"}},\"ternary\":{\"bgcolor\":\"#E5ECF6\",\"aaxis\":{\"gridcolor\":\"white\",\"linecolor\":\"white\",\"ticks\":\"\"},\"baxis\":{\"gridcolor\":\"white\",\"linecolor\":\"white\",\"ticks\":\"\"},\"caxis\":{\"gridcolor\":\"white\",\"linecolor\":\"white\",\"ticks\":\"\"}},\"coloraxis\":{\"colorbar\":{\"outlinewidth\":0,\"ticks\":\"\"}},\"colorscale\":{\"sequential\":[[0.0,\"#0d0887\"],[0.1111111111111111,\"#46039f\"],[0.2222222222222222,\"#7201a8\"],[0.3333333333333333,\"#9c179e\"],[0.4444444444444444,\"#bd3786\"],[0.5555555555555556,\"#d8576b\"],[0.6666666666666666,\"#ed7953\"],[0.7777777777777778,\"#fb9f3a\"],[0.8888888888888888,\"#fdca26\"],[1.0,\"#f0f921\"]],\"sequentialminus\":[[0.0,\"#0d0887\"],[0.1111111111111111,\"#46039f\"],[0.2222222222222222,\"#7201a8\"],[0.3333333333333333,\"#9c179e\"],[0.4444444444444444,\"#bd3786\"],[0.5555555555555556,\"#d8576b\"],[0.6666666666666666,\"#ed7953\"],[0.7777777777777778,\"#fb9f3a\"],[0.8888888888888888,\"#fdca26\"],[1.0,\"#f0f921\"]],\"diverging\":[[0,\"#8e0152\"],[0.1,\"#c51b7d\"],[0.2,\"#de77ae\"],[0.3,\"#f1b6da\"],[0.4,\"#fde0ef\"],[0.5,\"#f7f7f7\"],[0.6,\"#e6f5d0\"],[0.7,\"#b8e186\"],[0.8,\"#7fbc41\"],[0.9,\"#4d9221\"],[1,\"#276419\"]]},\"xaxis\":{\"gridcolor\":\"white\",\"linecolor\":\"white\",\"ticks\":\"\",\"title\":{\"standoff\":15},\"zerolinecolor\":\"white\",\"automargin\":true,\"zerolinewidth\":2},\"yaxis\":{\"gridcolor\":\"white\",\"linecolor\":\"white\",\"ticks\":\"\",\"title\":{\"standoff\":15},\"zerolinecolor\":\"white\",\"automargin\":true,\"zerolinewidth\":2},\"scene\":{\"xaxis\":{\"backgroundcolor\":\"#E5ECF6\",\"gridcolor\":\"white\",\"linecolor\":\"white\",\"showbackground\":true,\"ticks\":\"\",\"zerolinecolor\":\"white\",\"gridwidth\":2},\"yaxis\":{\"backgroundcolor\":\"#E5ECF6\",\"gridcolor\":\"white\",\"linecolor\":\"white\",\"showbackground\":true,\"ticks\":\"\",\"zerolinecolor\":\"white\",\"gridwidth\":2},\"zaxis\":{\"backgroundcolor\":\"#E5ECF6\",\"gridcolor\":\"white\",\"linecolor\":\"white\",\"showbackground\":true,\"ticks\":\"\",\"zerolinecolor\":\"white\",\"gridwidth\":2}},\"shapedefaults\":{\"line\":{\"color\":\"#2a3f5f\"}},\"annotationdefaults\":{\"arrowcolor\":\"#2a3f5f\",\"arrowhead\":0,\"arrowwidth\":1},\"geo\":{\"bgcolor\":\"white\",\"landcolor\":\"#E5ECF6\",\"subunitcolor\":\"white\",\"showland\":true,\"showlakes\":true,\"lakecolor\":\"white\"},\"title\":{\"x\":0.05},\"mapbox\":{\"style\":\"light\"}}}},                        {\"responsive\": true}                    ).then(function(){\n",
       "                            \n",
       "var gd = document.getElementById('c7eb0de5-53e3-42ea-916d-084c25042718');\n",
       "var x = new MutationObserver(function (mutations, observer) {{\n",
       "        var display = window.getComputedStyle(gd).display;\n",
       "        if (!display || display === 'none') {{\n",
       "            console.log([gd, 'removed!']);\n",
       "            Plotly.purge(gd);\n",
       "            observer.disconnect();\n",
       "        }}\n",
       "}});\n",
       "\n",
       "// Listen for the removal of the full notebook cells\n",
       "var notebookContainer = gd.closest('#notebook-container');\n",
       "if (notebookContainer) {{\n",
       "    x.observe(notebookContainer, {childList: true});\n",
       "}}\n",
       "\n",
       "// Listen for the clearing of the current output cell\n",
       "var outputEl = gd.closest('.output');\n",
       "if (outputEl) {{\n",
       "    x.observe(outputEl, {childList: true});\n",
       "}}\n",
       "\n",
       "                        })                };                });            </script>        </div>"
      ]
     },
     "metadata": {},
     "output_type": "display_data"
    }
   ],
   "source": [
    "import plotly.graph_objects as go\n",
    "\n",
    "headerColor = 'grey'\n",
    "rowEvenColor = 'lightgrey'\n",
    "rowOddColor = 'white'\n",
    "\n",
    "func_list = [count, mean, std, ft_min, partial(percentile, percent=25),\\\n",
    "             partial(percentile, percent=50), partial(percentile, percent=75),  ft_max]\n",
    "\n",
    "vals = [] \n",
    "\n",
    "for func in func_list:\n",
    "    vals.append(list(map(func, features)))\n",
    "\n",
    "#tranpose the 2d array\n",
    "vals = [list(x) for x  in zip(*vals)]\n",
    "\n",
    "rounded_vals = []\n",
    "for i in vals:\n",
    "    tmp = []\n",
    "    for j in i:\n",
    "        tmp.append(format_decimal(j, 6))\n",
    "    rounded_vals.append(tmp)\n",
    "    \n",
    "rounded_vals.insert(0,[\"count\", \"mean\", \"std\", \"min\", \"25%\", \"50%\", \"75%\", \"max\"])\n",
    "\n",
    "fig = go.Figure(data=[go.Table(\n",
    "  header=dict(\n",
    "    values=['',*features],\n",
    "    line_color='darkslategray',\n",
    "    fill_color=headerColor,\n",
    "    align=['left','center'],\n",
    "    font=dict(color='Black', size=12)\n",
    "  ),\n",
    "  cells=dict(\n",
    "    values=rounded_vals,\n",
    "    line_color='darkslategray',\n",
    "    # 2-D list of colors for alternating rows\n",
    "    fill_color = [[rowOddColor,rowEvenColor,rowOddColor, rowEvenColor,rowOddColor, rowEvenColor,rowOddColor,  rowEvenColor]],\n",
    "    align = ['left', 'center'],\n",
    "    font = dict(color = 'darkslategray', size = 11)\n",
    "    ))\n",
    "])\n",
    "\n",
    "fig.show()"
   ]
  },
  {
   "cell_type": "code",
   "execution_count": null,
   "id": "4e58c5ba",
   "metadata": {},
   "outputs": [],
   "source": []
  }
 ],
 "metadata": {
  "kernelspec": {
   "display_name": "Python 3 (ipykernel)",
   "language": "python",
   "name": "python3"
  },
  "language_info": {
   "codemirror_mode": {
    "name": "ipython",
    "version": 3
   },
   "file_extension": ".py",
   "mimetype": "text/x-python",
   "name": "python",
   "nbconvert_exporter": "python",
   "pygments_lexer": "ipython3",
   "version": "3.9.13"
  }
 },
 "nbformat": 4,
 "nbformat_minor": 5
}
