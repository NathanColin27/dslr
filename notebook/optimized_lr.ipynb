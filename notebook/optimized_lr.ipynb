{
 "cells": [
  {
   "cell_type": "code",
   "execution_count": 1,
   "id": "a2fafdb3",
   "metadata": {},
   "outputs": [
    {
     "data": {
      "text/html": [
       "<style>.container { width:100% !important; }</style>"
      ],
      "text/plain": [
       "<IPython.core.display.HTML object>"
      ]
     },
     "metadata": {},
     "output_type": "display_data"
    }
   ],
   "source": [
    "# Import Modules/Libraries\n",
    "import numpy as np\n",
    "import pandas as pd\n",
    "import math\n",
    "import matplotlib.pyplot as plt\n",
    "\n",
    "%matplotlib inline\n",
    "from IPython.display import display, HTML\n",
    "display(HTML(\"<style>.container { width:100% !important; }</style>\"))\n",
    "\n",
    "np.random.seed(1)\n",
    "\n",
    "import warnings\n",
    "#suppress warnings with numpy for sigmoid function\n",
    "warnings.filterwarnings('ignore')"
   ]
  },
  {
   "cell_type": "code",
   "execution_count": 2,
   "id": "8962f044",
   "metadata": {},
   "outputs": [],
   "source": [
    "# Load datasets\n",
    "train = pd.read_csv('../datasets/clean/cleaned_train.csv', index_col = False)\n",
    "test = pd.read_csv('../datasets/clean/cleaned_test.csv', index_col = False)"
   ]
  },
  {
   "cell_type": "code",
   "execution_count": 4,
   "id": "76cf3c61",
   "metadata": {},
   "outputs": [
    {
     "data": {
      "text/html": [
       "<div>\n",
       "<style scoped>\n",
       "    .dataframe tbody tr th:only-of-type {\n",
       "        vertical-align: middle;\n",
       "    }\n",
       "\n",
       "    .dataframe tbody tr th {\n",
       "        vertical-align: top;\n",
       "    }\n",
       "\n",
       "    .dataframe thead th {\n",
       "        text-align: right;\n",
       "    }\n",
       "</style>\n",
       "<table border=\"1\" class=\"dataframe\">\n",
       "  <thead>\n",
       "    <tr style=\"text-align: right;\">\n",
       "      <th></th>\n",
       "      <th>Astronomy</th>\n",
       "      <th>Herbology</th>\n",
       "      <th>Divination</th>\n",
       "      <th>Muggle Studies</th>\n",
       "      <th>Ancient Runes</th>\n",
       "      <th>History of Magic</th>\n",
       "      <th>Transfiguration</th>\n",
       "      <th>Potions</th>\n",
       "      <th>Charms</th>\n",
       "      <th>Flying</th>\n",
       "      <th>Gryffindor</th>\n",
       "      <th>Hufflepuff</th>\n",
       "      <th>Ravenclaw</th>\n",
       "      <th>Slytherin</th>\n",
       "    </tr>\n",
       "  </thead>\n",
       "  <tbody>\n",
       "    <tr>\n",
       "      <th>0</th>\n",
       "      <td>-1.014194</td>\n",
       "      <td>0.878628</td>\n",
       "      <td>0.377371</td>\n",
       "      <td>1.021139</td>\n",
       "      <td>0.345639</td>\n",
       "      <td>0.512444</td>\n",
       "      <td>0.219633</td>\n",
       "      <td>-0.686183</td>\n",
       "      <td>1.204553</td>\n",
       "      <td>-0.500330</td>\n",
       "      <td>0</td>\n",
       "      <td>0</td>\n",
       "      <td>1</td>\n",
       "      <td>0</td>\n",
       "    </tr>\n",
       "    <tr>\n",
       "      <th>1</th>\n",
       "      <td>-1.137535</td>\n",
       "      <td>-1.365690</td>\n",
       "      <td>-2.109573</td>\n",
       "      <td>-0.540256</td>\n",
       "      <td>-1.204191</td>\n",
       "      <td>0.258503</td>\n",
       "      <td>0.653769</td>\n",
       "      <td>0.412462</td>\n",
       "      <td>-1.002983</td>\n",
       "      <td>-1.386928</td>\n",
       "      <td>0</td>\n",
       "      <td>0</td>\n",
       "      <td>0</td>\n",
       "      <td>1</td>\n",
       "    </tr>\n",
       "    <tr>\n",
       "      <th>2</th>\n",
       "      <td>-0.780078</td>\n",
       "      <td>1.261379</td>\n",
       "      <td>0.718622</td>\n",
       "      <td>1.828915</td>\n",
       "      <td>1.005195</td>\n",
       "      <td>0.133871</td>\n",
       "      <td>1.314249</td>\n",
       "      <td>0.882556</td>\n",
       "      <td>1.825184</td>\n",
       "      <td>0.086673</td>\n",
       "      <td>0</td>\n",
       "      <td>0</td>\n",
       "      <td>1</td>\n",
       "      <td>0</td>\n",
       "    </tr>\n",
       "  </tbody>\n",
       "</table>\n",
       "</div>"
      ],
      "text/plain": [
       "   Astronomy  Herbology  Divination  Muggle Studies  Ancient Runes  \\\n",
       "0  -1.014194   0.878628    0.377371        1.021139       0.345639   \n",
       "1  -1.137535  -1.365690   -2.109573       -0.540256      -1.204191   \n",
       "2  -0.780078   1.261379    0.718622        1.828915       1.005195   \n",
       "\n",
       "   History of Magic  Transfiguration   Potions    Charms    Flying  \\\n",
       "0          0.512444         0.219633 -0.686183  1.204553 -0.500330   \n",
       "1          0.258503         0.653769  0.412462 -1.002983 -1.386928   \n",
       "2          0.133871         1.314249  0.882556  1.825184  0.086673   \n",
       "\n",
       "   Gryffindor  Hufflepuff  Ravenclaw  Slytherin  \n",
       "0           0           0          1          0  \n",
       "1           0           0          0          1  \n",
       "2           0           0          1          0  "
      ]
     },
     "execution_count": 4,
     "metadata": {},
     "output_type": "execute_result"
    }
   ],
   "source": [
    "train.head(3)"
   ]
  },
  {
   "cell_type": "code",
   "execution_count": 3,
   "id": "d956ef2e",
   "metadata": {},
   "outputs": [],
   "source": [
    "#Split X (independent variables) with the target value Y\n",
    "target_columns = ['Gryffindor', 'Hufflepuff', 'Ravenclaw', 'Slytherin']\n",
    "X_train = np.array(train.drop(columns = target_columns))\n",
    "y_train = np.array(train[target_columns])"
   ]
  },
  {
   "cell_type": "code",
   "execution_count": 5,
   "id": "03b96ffb",
   "metadata": {},
   "outputs": [
    {
     "name": "stdout",
     "output_type": "stream",
     "text": [
      "The shape of X_train is: (1600, 10)\n",
      "The shape of y_train is: (1600, 4)\n",
      "We have m = 1600 training examples\n"
     ]
    }
   ],
   "source": [
    "print ('The shape of X_train is: ' + str(X_train.shape))\n",
    "print ('The shape of y_train is: ' + str(y_train.shape))\n",
    "print ('We have m = %d training examples' % (len(y_train)))"
   ]
  },
  {
   "cell_type": "code",
   "execution_count": 171,
   "id": "cc5c100e",
   "metadata": {},
   "outputs": [],
   "source": [
    "def initialize(X):\n",
    "    thetas = np.zeros((np.shape(X)[1]+1,1))\n",
    "    X = np.c_[np.ones((np.shape(X)[0],1)),X]\n",
    "    return thetas, X"
   ]
  },
  {
   "cell_type": "code",
   "execution_count": 172,
   "id": "5923e286",
   "metadata": {},
   "outputs": [],
   "source": [
    "def sigmoid(z):\n",
    "    return 1 / (1 + np.exp(-z))"
   ]
  },
  {
   "cell_type": "code",
   "execution_count": 173,
   "id": "ddf198d0",
   "metadata": {},
   "outputs": [
    {
     "name": "stdout",
     "output_type": "stream",
     "text": [
      "sigmoid(0) = 0.5\n"
     ]
    }
   ],
   "source": [
    "print (\"sigmoid(0) = \" + str(sigmoid(0)))"
   ]
  },
  {
   "cell_type": "code",
   "execution_count": 237,
   "id": "a4131f03",
   "metadata": {},
   "outputs": [],
   "source": [
    "def cost(X, y, thetas):\n",
    "    z = np.dot(X,thetas)\n",
    "    cost0 = y.T.dot(np.log(sigmoid(z)))\n",
    "    cost1 = (1-y).T.dot(np.log(1-sigmoid(z)))\n",
    "    cost = -((cost1 + cost0))/len(y) \n",
    "    return cost"
   ]
  },
  {
   "cell_type": "code",
   "execution_count": 238,
   "id": "12ca4ec2",
   "metadata": {},
   "outputs": [],
   "source": [
    "thetas, X = initialize(X_train)"
   ]
  },
  {
   "cell_type": "code",
   "execution_count": 241,
   "id": "6b261b2d",
   "metadata": {},
   "outputs": [],
   "source": [
    "def fit(X,y,alpha=0.00001, iter=100):\n",
    "    thetas, X = initialize(X)\n",
    "    cost_list = np.zeros(iter,)\n",
    "    for i in range(iter):\n",
    "        thetas = thetas - alpha * np.dot(X.T, sigmoid(np.dot(X, thetas)) - np.reshape(y,(len(y),1)) )\n",
    "        print(thetas.shape)\n",
    "        cost_list[i] = cost(X, y, thetas)\n",
    "    thetas = thetas\n",
    "    return cost_list, thetas"
   ]
  },
  {
   "cell_type": "code",
   "execution_count": 234,
   "id": "aa767720",
   "metadata": {},
   "outputs": [
    {
     "data": {
      "text/plain": [
       "(array([0.68613234, 0.6792497 , 0.67249633, 0.66586933, 0.65936585,\n",
       "        0.6529831 , 0.6467183 , 0.64056875, 0.63453179, 0.62860481,\n",
       "        0.62278525, 0.61707061, 0.61145842, 0.6059463 , 0.60053189,\n",
       "        0.5952129 , 0.58998708, 0.58485226, 0.57980628, 0.57484708,\n",
       "        0.5699726 , 0.56518088, 0.56046997, 0.55583799, 0.55128311,\n",
       "        0.54680353, 0.54239752, 0.53806337, 0.53379944, 0.52960412,\n",
       "        0.52547584, 0.52141308, 0.51741435, 0.51347821, 0.50960326,\n",
       "        0.50578812, 0.50203148, 0.49833203, 0.49468851, 0.49109971,\n",
       "        0.48756442, 0.48408149, 0.48064979, 0.47726821, 0.4739357 ,\n",
       "        0.4706512 , 0.46741371, 0.46422224, 0.46107583, 0.45797355,\n",
       "        0.45491448, 0.45189774, 0.44892247, 0.44598782, 0.44309299,\n",
       "        0.44023717, 0.43741958, 0.43463948, 0.43189611, 0.42918878,\n",
       "        0.42651677, 0.4238794 , 0.42127602, 0.41870596, 0.4161686 ,\n",
       "        0.41366333, 0.41118954, 0.40874664, 0.40633407, 0.40395126,\n",
       "        0.40159768, 0.39927278, 0.39697606, 0.39470701, 0.39246512,\n",
       "        0.39024993, 0.38806096, 0.38589774, 0.38375984, 0.3816468 ,\n",
       "        0.37955821, 0.37749364, 0.37545269, 0.37343495, 0.37144003,\n",
       "        0.36946755, 0.36751714, 0.36558843, 0.36368106, 0.36179469,\n",
       "        0.35992897, 0.35808357, 0.35625816, 0.35445242, 0.35266604,\n",
       "        0.35089871, 0.34915013, 0.34742   , 0.34570804, 0.34401397]),\n",
       " array([[-0.41183234],\n",
       "        [-0.20640978],\n",
       "        [-0.23663042],\n",
       "        [-0.3721467 ],\n",
       "        [-0.09787892],\n",
       "        [-0.14799931],\n",
       "        [ 0.05531805],\n",
       "        [ 0.06889806],\n",
       "        [ 0.19823945],\n",
       "        [-0.14938142],\n",
       "        [-0.16115633]]))"
      ]
     },
     "execution_count": 234,
     "metadata": {},
     "output_type": "execute_result"
    }
   ],
   "source": [
    "cost_list, thetas"
   ]
  },
  {
   "cell_type": "code",
   "execution_count": 235,
   "id": "9737be42",
   "metadata": {},
   "outputs": [],
   "source": [
    "def predict(X, thetas):\n",
    "    z = np.dot(X, thetas)\n",
    "    lis = []\n",
    "    for i in sigmoid(z):\n",
    "        if i>0.5:\n",
    "            lis.append(1)\n",
    "        else:\n",
    "            lis.append(0)\n",
    "    return lis"
   ]
  },
  {
   "cell_type": "code",
   "execution_count": 236,
   "id": "29733c58",
   "metadata": {},
   "outputs": [
    {
     "data": {
      "text/plain": [
       "0.99125"
      ]
     },
     "execution_count": 236,
     "metadata": {},
     "output_type": "execute_result"
    }
   ],
   "source": [
    "(predict(X, weights) == y_train[:, 3]).astype(int).sum()/len(y)"
   ]
  },
  {
   "cell_type": "code",
   "execution_count": 213,
   "id": "b6cf8aa4",
   "metadata": {},
   "outputs": [],
   "source": [
    "z = np.dot(initialize(X_train)[1], thetas)\n"
   ]
  },
  {
   "cell_type": "code",
   "execution_count": 221,
   "id": "7bd04745",
   "metadata": {},
   "outputs": [
    {
     "data": {
      "text/plain": [
       "array([0, 0, 0, ..., 0, 1, 1])"
      ]
     },
     "execution_count": 221,
     "metadata": {},
     "output_type": "execute_result"
    }
   ],
   "source": [
    "y_train[:, 1]"
   ]
  },
  {
   "cell_type": "code",
   "execution_count": null,
   "id": "1a69e992",
   "metadata": {},
   "outputs": [],
   "source": []
  },
  {
   "cell_type": "code",
   "execution_count": null,
   "id": "a6afa541",
   "metadata": {},
   "outputs": [],
   "source": []
  }
 ],
 "metadata": {
  "kernelspec": {
   "display_name": "Python 3 (ipykernel)",
   "language": "python",
   "name": "python3"
  },
  "language_info": {
   "codemirror_mode": {
    "name": "ipython",
    "version": 3
   },
   "file_extension": ".py",
   "mimetype": "text/x-python",
   "name": "python",
   "nbconvert_exporter": "python",
   "pygments_lexer": "ipython3",
   "version": "3.8.2"
  }
 },
 "nbformat": 4,
 "nbformat_minor": 5
}
